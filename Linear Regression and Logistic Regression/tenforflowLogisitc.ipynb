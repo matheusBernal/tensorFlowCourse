{
 "cells": [
  {
   "cell_type": "code",
   "execution_count": 2,
   "metadata": {},
   "outputs": [],
   "source": [
    "import tensorflow as tf\n",
    "import numpy as np\n",
    "import pandas as pd\n",
    "import matplotlib.pyplot as plt\n",
    "import time\n",
    "from sklearn.datasets import load_iris\n",
    "from sklearn.model_selection import train_test_split"
   ]
  },
  {
   "cell_type": "code",
   "execution_count": 3,
   "metadata": {},
   "outputs": [],
   "source": [
    "iris = load_iris()"
   ]
  },
  {
   "cell_type": "code",
   "execution_count": 5,
   "metadata": {},
   "outputs": [],
   "source": [
    "iris_x,iris_y = iris.data[:-1,:], iris.target[:-1]\n",
    "iris_y = pd.get_dummies(iris_y).values\n",
    "train_x,test_x,train_y,test_y = train_test_split(iris_x,iris_y,random_state=42,test_size=0.33)"
   ]
  },
  {
   "cell_type": "code",
   "execution_count": 7,
   "metadata": {},
   "outputs": [
    {
     "name": "stdout",
     "output_type": "stream",
     "text": [
      "numFeatures is:  4\n",
      "numLabels:  3\n"
     ]
    }
   ],
   "source": [
    "numFeatures = train_x.shape[1]\n",
    "\n",
    "print('numFeatures is: ', numFeatures)\n",
    "\n",
    "numLabels = train_y.shape[1]\n",
    "\n",
    "print('numLabels: ',numLabels)"
   ]
  },
  {
   "cell_type": "code",
   "execution_count": 8,
   "metadata": {},
   "outputs": [],
   "source": [
    "train_x = tf.constant(train_x,dtype='float32')\n",
    "test_x = tf.constant(test_x,dtype='float32')\n",
    "train_y = tf.constant(train_y,dtype='float32')\n",
    "test_y = tf.constant(test_y,dtype='float32')"
   ]
  },
  {
   "cell_type": "code",
   "execution_count": 9,
   "metadata": {},
   "outputs": [],
   "source": [
    "w = tf.Variable(tf.zeros([4,3]))\n",
    "b = tf.Variable(tf.zeros([3]))"
   ]
  },
  {
   "cell_type": "code",
   "execution_count": 10,
   "metadata": {},
   "outputs": [
    {
     "data": {
      "text/plain": [
       "<tf.Variable 'Variable:0' shape=(4, 3) dtype=float32, numpy=\n",
       "array([[0., 0., 0.],\n",
       "       [0., 0., 0.],\n",
       "       [0., 0., 0.],\n",
       "       [0., 0., 0.]], dtype=float32)>"
      ]
     },
     "execution_count": 10,
     "metadata": {},
     "output_type": "execute_result"
    }
   ],
   "source": [
    "w"
   ]
  },
  {
   "cell_type": "code",
   "execution_count": 11,
   "metadata": {},
   "outputs": [
    {
     "data": {
      "text/plain": [
       "<tf.Variable 'Variable:0' shape=(3,) dtype=float32, numpy=array([0., 0., 0.], dtype=float32)>"
      ]
     },
     "execution_count": 11,
     "metadata": {},
     "output_type": "execute_result"
    }
   ],
   "source": [
    "b"
   ]
  },
  {
   "cell_type": "code",
   "execution_count": 12,
   "metadata": {},
   "outputs": [],
   "source": [
    "weight = tf.Variable(tf.random.normal([numFeatures,numLabels],mean=0,stddev=0.01,name='weights'),dtype='float32')\n",
    "bias = tf.Variable(tf.random.normal([1,numLabels],mean=0,stddev=0.01,name='bias'))"
   ]
  },
  {
   "cell_type": "code",
   "execution_count": 13,
   "metadata": {},
   "outputs": [],
   "source": [
    "def logistic_regression(x):\n",
    "    apply_weights_op = tf.matmul(x,weight,name='apply_weights')\n",
    "    add_bia_op = tf.add(apply_weights_op,bias,name='apply_bias')\n",
    "    activation_sigmoid = tf.nn.sigmoid(add_bia_op,name='activation_sigmoid')\n",
    "\n",
    "    return activation_sigmoid"
   ]
  },
  {
   "cell_type": "code",
   "execution_count": 14,
   "metadata": {},
   "outputs": [],
   "source": [
    "numEpochs = 700\n",
    "\n",
    "learningRate = tf.keras.optimizers.schedules.ExponentialDecay(initial_learning_rate=0.0008,decay_steps=train_x.shape[0],decay_rate=0.95,staircase=True)"
   ]
  },
  {
   "cell_type": "code",
   "execution_count": 15,
   "metadata": {},
   "outputs": [],
   "source": [
    "loss_object = tf.keras.losses.MeanSquaredLogarithmicError()\n",
    "optimizer = tf.keras.optimizers.SGD(learningRate)"
   ]
  },
  {
   "cell_type": "code",
   "execution_count": 16,
   "metadata": {},
   "outputs": [],
   "source": [
    "def accuracy(pred_y,true_y):\n",
    "    correct_predict = tf.equal(tf.argmax(pred_y,1),tf.argmax(true_y,1))\n",
    "    return tf.reduce_mean(tf.cast(correct_predict,tf.float32))"
   ]
  },
  {
   "cell_type": "code",
   "execution_count": 17,
   "metadata": {},
   "outputs": [],
   "source": [
    "def run_optimization(x,y):\n",
    "    with tf.GradientTape() as g:\n",
    "        pred_logistc = logistic_regression(x)\n",
    "        loss = loss_object(pred_logistc,y)\n",
    "    gradiants=g.gradient(loss,[weight,bias])\n",
    "    optimizer.apply_gradients(zip(gradiants,[weight,bias]))"
   ]
  },
  {
   "cell_type": "code",
   "execution_count": 18,
   "metadata": {},
   "outputs": [
    {
     "name": "stdout",
     "output_type": "stream",
     "text": [
      "step 0, training accuracy 0.32, loss 0.134169, change in loss 0.134169\n",
      "step 10, training accuracy 0.32, loss 0.133618, change in loss 0.000550419\n",
      "step 20, training accuracy 0.32, loss 0.133076, change in loss 0.000541806\n",
      "step 30, training accuracy 0.32, loss 0.132543, change in loss 0.000533283\n",
      "step 40, training accuracy 0.32, loss 0.132018, change in loss 0.000524744\n",
      "step 50, training accuracy 0.32, loss 0.131502, change in loss 0.000516325\n",
      "step 60, training accuracy 0.32, loss 0.130994, change in loss 0.000507936\n",
      "step 70, training accuracy 0.32, loss 0.130494, change in loss 0.000499621\n",
      "step 80, training accuracy 0.32, loss 0.130003, change in loss 0.000491381\n",
      "step 90, training accuracy 0.32, loss 0.12952, change in loss 0.0004832\n",
      "step 100, training accuracy 0.32, loss 0.129049, change in loss 0.000470415\n",
      "step 110, training accuracy 0.32, loss 0.128605, change in loss 0.000443995\n",
      "step 120, training accuracy 0.32, loss 0.128169, change in loss 0.000436842\n",
      "step 130, training accuracy 0.32, loss 0.127739, change in loss 0.000429749\n",
      "step 140, training accuracy 0.32, loss 0.127316, change in loss 0.000422746\n",
      "step 150, training accuracy 0.32, loss 0.1269, change in loss 0.000415802\n",
      "step 160, training accuracy 0.32, loss 0.126491, change in loss 0.000408977\n",
      "step 170, training accuracy 0.32, loss 0.126089, change in loss 0.000402182\n",
      "step 180, training accuracy 0.32, loss 0.125694, change in loss 0.000395477\n",
      "step 190, training accuracy 0.32, loss 0.125305, change in loss 0.000388891\n",
      "step 200, training accuracy 0.32, loss 0.124928, change in loss 0.000376679\n",
      "step 210, training accuracy 0.32, loss 0.124571, change in loss 0.000357367\n",
      "step 220, training accuracy 0.32, loss 0.124219, change in loss 0.000351623\n",
      "step 230, training accuracy 0.32, loss 0.123873, change in loss 0.000345983\n",
      "step 240, training accuracy 0.32, loss 0.123533, change in loss 0.000340417\n",
      "step 250, training accuracy 0.32, loss 0.123198, change in loss 0.000334866\n",
      "step 260, training accuracy 0.32, loss 0.122868, change in loss 0.000329457\n",
      "step 270, training accuracy 0.32, loss 0.122544, change in loss 0.000324108\n",
      "step 280, training accuracy 0.32, loss 0.122226, change in loss 0.000318818\n",
      "step 290, training accuracy 0.32, loss 0.121912, change in loss 0.000313632\n",
      "step 300, training accuracy 0.32, loss 0.12161, change in loss 0.000302359\n",
      "step 310, training accuracy 0.32, loss 0.121321, change in loss 0.000288479\n",
      "step 320, training accuracy 0.32, loss 0.121037, change in loss 0.000284001\n",
      "step 330, training accuracy 0.32, loss 0.120757, change in loss 0.000279561\n",
      "step 340, training accuracy 0.32, loss 0.120482, change in loss 0.000275202\n",
      "step 350, training accuracy 0.32, loss 0.120211, change in loss 0.000270925\n",
      "step 360, training accuracy 0.32, loss 0.119945, change in loss 0.000266656\n",
      "step 370, training accuracy 0.32, loss 0.119682, change in loss 0.000262506\n",
      "step 380, training accuracy 0.32, loss 0.119424, change in loss 0.000258401\n",
      "step 390, training accuracy 0.32, loss 0.119169, change in loss 0.000254348\n",
      "step 400, training accuracy 0.32, loss 0.118925, change in loss 0.000244185\n",
      "step 410, training accuracy 0.32, loss 0.118691, change in loss 0.000234321\n",
      "step 420, training accuracy 0.32, loss 0.11846, change in loss 0.000230834\n",
      "step 430, training accuracy 0.32, loss 0.118233, change in loss 0.000227407\n",
      "step 440, training accuracy 0.32, loss 0.118009, change in loss 0.000224032\n",
      "step 450, training accuracy 0.32, loss 0.117788, change in loss 0.000220716\n",
      "step 460, training accuracy 0.32, loss 0.117571, change in loss 0.00021743\n",
      "step 470, training accuracy 0.32, loss 0.117356, change in loss 0.000214204\n",
      "step 480, training accuracy 0.32, loss 0.117145, change in loss 0.000211038\n",
      "step 490, training accuracy 0.32, loss 0.116937, change in loss 0.000207923\n",
      "step 500, training accuracy 0.32, loss 0.116739, change in loss 0.000198744\n",
      "step 510, training accuracy 0.32, loss 0.116547, change in loss 0.00019186\n",
      "step 520, training accuracy 0.32, loss 0.116358, change in loss 0.0001892\n",
      "step 530, training accuracy 0.32, loss 0.116171, change in loss 0.00018654\n",
      "step 540, training accuracy 0.32, loss 0.115987, change in loss 0.000183932\n",
      "step 550, training accuracy 0.32, loss 0.115806, change in loss 0.000181362\n",
      "step 560, training accuracy 0.32, loss 0.115627, change in loss 0.000178821\n",
      "step 570, training accuracy 0.32, loss 0.115451, change in loss 0.000176348\n",
      "step 580, training accuracy 0.32, loss 0.115277, change in loss 0.000173889\n",
      "step 590, training accuracy 0.32, loss 0.115105, change in loss 0.000171483\n",
      "step 600, training accuracy 0.32, loss 0.114942, change in loss 0.00016322\n",
      "step 610, training accuracy 0.32, loss 0.114783, change in loss 0.000158563\n",
      "step 620, training accuracy 0.32, loss 0.114627, change in loss 0.00015647\n",
      "step 630, training accuracy 0.32, loss 0.114472, change in loss 0.000154443\n",
      "step 640, training accuracy 0.32, loss 0.11432, change in loss 0.000152402\n",
      "step 650, training accuracy 0.32, loss 0.11417, change in loss 0.000150427\n",
      "step 660, training accuracy 0.32, loss 0.114021, change in loss 0.000148468\n",
      "step 670, training accuracy 0.32, loss 0.113875, change in loss 0.000146531\n",
      "step 680, training accuracy 0.32, loss 0.11373, change in loss 0.000144646\n",
      "step 690, training accuracy 0.32, loss 0.113587, change in loss 0.000142753\n",
      "final accuracy on test set: 0.32\n"
     ]
    }
   ],
   "source": [
    "display_step = 10\n",
    "epochs_values=[]\n",
    "accuracy_values=[]\n",
    "loss_values=[]\n",
    "loss=0\n",
    "diff=1\n",
    "\n",
    "for i in range(numEpochs):\n",
    "    if i > 1 and diff < .0001:\n",
    "        print(\"change in loss %g; convergence.\"%diff)\n",
    "        break\n",
    "    else:\n",
    "        run_optimization(train_x,train_y)\n",
    "\n",
    "        if i % display_step == 0:\n",
    "            epochs_values.append(i)\n",
    "\n",
    "            pred =logistic_regression(test_x)\n",
    "            newLoss=loss_object(pred,test_y)\n",
    "            loss_values.append(newLoss)\n",
    "            acc = accuracy(pred,test_y)\n",
    "            accuracy_values.append(acc)\n",
    "            diff =abs(newLoss-loss)\n",
    "            loss = newLoss\n",
    "            print(\"step %d, training accuracy %g, loss %g, change in loss %g\"%(i, acc, newLoss, diff))\n",
    "print(\"final accuracy on test set: %s\" %acc.numpy())"
   ]
  },
  {
   "cell_type": "code",
   "execution_count": 19,
   "metadata": {},
   "outputs": [
    {
     "data": {
      "image/png": "[encoded data removed]",
      "text/plain": [
       "<Figure size 640x480 with 1 Axes>"
      ]
     },
     "metadata": {},
     "output_type": "display_data"
    }
   ],
   "source": [
    "%matplotlib inline\n",
    "import numpy as np\n",
    "import matplotlib.pyplot as plt\n",
    "plt.xlabel(\"Epoch\")\n",
    "plt.ylabel(\"Loss\")\n",
    "plt.plot(loss_values)\n",
    "plt.show()"
   ]
  },
  {
   "cell_type": "code",
   "execution_count": null,
   "metadata": {},
   "outputs": [],
   "source": []
  }
 ],
 "metadata": {
  "kernelspec": {
   "display_name": ".venv",
   "language": "python",
   "name": "python3"
  },
  "language_info": {
   "codemirror_mode": {
    "name": "ipython",
    "version": 3
   },
   "file_extension": ".py",
   "mimetype": "text/x-python",
   "name": "python",
   "nbconvert_exporter": "python",
   "pygments_lexer": "ipython3",
   "version": "3.12.7"
  }
 },
 "nbformat": 4,
 "nbformat_minor": 2
}
