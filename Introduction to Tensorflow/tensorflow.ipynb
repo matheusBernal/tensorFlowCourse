{
 "cells": [
  {
   "cell_type": "code",
   "execution_count": 1,
   "metadata": {},
   "outputs": [],
   "source": [
    "import tensorflow as tf"
   ]
  },
  {
   "cell_type": "markdown",
   "metadata": {},
   "source": [
    "Constants"
   ]
  },
  {
   "cell_type": "code",
   "execution_count": 2,
   "metadata": {},
   "outputs": [
    {
     "data": {
      "text/plain": [
       "<tf.Tensor: shape=(), dtype=int32, numpy=12>"
      ]
     },
     "execution_count": 2,
     "metadata": {},
     "output_type": "execute_result"
    }
   ],
   "source": [
    "a = tf.constant(7)\n",
    "b = tf.constant(5)\n",
    "\n",
    "c = a+b\n",
    "c"
   ]
  },
  {
   "cell_type": "code",
   "execution_count": 3,
   "metadata": {},
   "outputs": [
    {
     "name": "stdout",
     "output_type": "stream",
     "text": [
      "tf.Tensor(7, shape=(), dtype=int32)\n"
     ]
    },
    {
     "data": {
      "text/plain": [
       "(tensorflow.python.framework.ops.EagerTensor, None)"
      ]
     },
     "execution_count": 3,
     "metadata": {},
     "output_type": "execute_result"
    }
   ],
   "source": [
    "type(a),print(a)"
   ]
  },
  {
   "cell_type": "code",
   "execution_count": 4,
   "metadata": {},
   "outputs": [
    {
     "name": "stdout",
     "output_type": "stream",
     "text": [
      "tf.Tensor(12, shape=(), dtype=int32)\n"
     ]
    },
    {
     "data": {
      "text/plain": [
       "(None, tensorflow.python.framework.ops.EagerTensor)"
      ]
     },
     "execution_count": 4,
     "metadata": {},
     "output_type": "execute_result"
    }
   ],
   "source": [
    "print(c),type(c)"
   ]
  },
  {
   "cell_type": "code",
   "execution_count": 5,
   "metadata": {},
   "outputs": [
    {
     "name": "stdout",
     "output_type": "stream",
     "text": [
      "tf.Tensor(\n",
      "[[1 2 3 4]\n",
      " [5 6 7 8]], shape=(2, 4), dtype=int32)\n"
     ]
    }
   ],
   "source": [
    "matriz_constant = tf.constant([[1,2,3,4],[5,6,7,8]],name='matriz const')\n",
    "print(matriz_constant)"
   ]
  },
  {
   "cell_type": "code",
   "execution_count": 6,
   "metadata": {},
   "outputs": [
    {
     "data": {
      "text/plain": [
       "(<tf.Tensor: shape=(), dtype=string, numpy=b'Text 1'>,\n",
       " <tf.Tensor: shape=(), dtype=string, numpy=b'Text 2'>)"
      ]
     },
     "execution_count": 6,
     "metadata": {},
     "output_type": "execute_result"
    }
   ],
   "source": [
    "string_constant_1 = tf.constant('Text 1')\n",
    "string_constant_2 = tf.constant('Text 2')\n",
    "string_constant_1,string_constant_2"
   ]
  },
  {
   "cell_type": "code",
   "execution_count": 7,
   "metadata": {},
   "outputs": [],
   "source": [
    "type(string_constant_1)\n",
    "check = string_constant_1+string_constant_2"
   ]
  },
  {
   "cell_type": "code",
   "execution_count": 8,
   "metadata": {},
   "outputs": [
    {
     "name": "stdout",
     "output_type": "stream",
     "text": [
      "b'Text 1'\n"
     ]
    },
    {
     "data": {
      "text/plain": [
       "(None, b'Text 1Text 2')"
      ]
     },
     "execution_count": 8,
     "metadata": {},
     "output_type": "execute_result"
    }
   ],
   "source": [
    "print(string_constant_1.numpy()),check.numpy()"
   ]
  },
  {
   "cell_type": "markdown",
   "metadata": {},
   "source": [
    "Variables"
   ]
  },
  {
   "cell_type": "code",
   "execution_count": 9,
   "metadata": {},
   "outputs": [
    {
     "name": "stdout",
     "output_type": "stream",
     "text": [
      "tf.Tensor(45, shape=(), dtype=int32)\n"
     ]
    }
   ],
   "source": [
    "x = tf.Variable(10)\n",
    "y = x + 35\n",
    "print(y)"
   ]
  },
  {
   "cell_type": "code",
   "execution_count": 10,
   "metadata": {},
   "outputs": [
    {
     "name": "stdout",
     "output_type": "stream",
     "text": [
      "<tf.Variable 'Variable:0' shape=() dtype=int32, numpy=56> tf.Tensor(126, shape=(), dtype=int32)\n"
     ]
    }
   ],
   "source": [
    "x.assign(56)\n",
    "print(x,x+70)"
   ]
  },
  {
   "cell_type": "code",
   "execution_count": 11,
   "metadata": {},
   "outputs": [
    {
     "name": "stdout",
     "output_type": "stream",
     "text": [
      "60\n",
      "64\n",
      "68\n",
      "72\n",
      "76\n"
     ]
    }
   ],
   "source": [
    "for i in range(5):\n",
    "    x = x+4\n",
    "    print(x.numpy())"
   ]
  },
  {
   "cell_type": "markdown",
   "metadata": {},
   "source": [
    "Addition of vectors and matrices"
   ]
  },
  {
   "cell_type": "code",
   "execution_count": 12,
   "metadata": {},
   "outputs": [],
   "source": [
    "a = tf.constant([[1,2,3],[2,5,6]],name='first')\n",
    "b = tf.constant([[2,3,4],[5,6,7]],name='second')\n",
    "\n",
    "c = a + b\n",
    "d = a*b"
   ]
  },
  {
   "cell_type": "code",
   "execution_count": 13,
   "metadata": {},
   "outputs": [
    {
     "name": "stdout",
     "output_type": "stream",
     "text": [
      "tf.Tensor(\n",
      "[[ 3  5  7]\n",
      " [ 7 11 13]], shape=(2, 3), dtype=int32)\n"
     ]
    }
   ],
   "source": [
    "print(c)"
   ]
  },
  {
   "cell_type": "code",
   "execution_count": 14,
   "metadata": {},
   "outputs": [
    {
     "name": "stdout",
     "output_type": "stream",
     "text": [
      "tf.Tensor(\n",
      "[[ 2  6 12]\n",
      " [10 30 42]], shape=(2, 3), dtype=int32)\n"
     ]
    }
   ],
   "source": [
    "print(d)"
   ]
  },
  {
   "cell_type": "code",
   "execution_count": 15,
   "metadata": {},
   "outputs": [],
   "source": [
    "f = tf.constant([1,2,3,4])\n",
    "g = tf.constant([2,3,4,5])\n",
    "\n",
    "h = f+g\n",
    "i = f*g"
   ]
  },
  {
   "cell_type": "code",
   "execution_count": 16,
   "metadata": {},
   "outputs": [
    {
     "name": "stdout",
     "output_type": "stream",
     "text": [
      "tf.Tensor([3 5 7 9], shape=(4,), dtype=int32) tf.Tensor([ 2  6 12 20], shape=(4,), dtype=int32)\n"
     ]
    }
   ],
   "source": [
    "print(h,i)"
   ]
  },
  {
   "cell_type": "code",
   "execution_count": 17,
   "metadata": {},
   "outputs": [
    {
     "name": "stdout",
     "output_type": "stream",
     "text": [
      "tf.Tensor([3 5 7 9], shape=(4,), dtype=int32)\n"
     ]
    }
   ],
   "source": [
    "check = tf.add(f,g)\n",
    "print(check)"
   ]
  },
  {
   "cell_type": "code",
   "execution_count": 18,
   "metadata": {},
   "outputs": [
    {
     "data": {
      "text/plain": [
       "<tf.Tensor: shape=(2, 2), dtype=int32, numpy=\n",
       "array([[ 7, 12],\n",
       "       [13, 26]])>"
      ]
     },
     "execution_count": 18,
     "metadata": {},
     "output_type": "execute_result"
    }
   ],
   "source": [
    "new_a = tf.constant([[1,2],[3,4]])\n",
    "new_b = tf.constant([[-1,2],[4,5]])\n",
    "multi = tf.matmul(new_a,new_b)\n",
    "multi"
   ]
  },
  {
   "cell_type": "code",
   "execution_count": 19,
   "metadata": {},
   "outputs": [
    {
     "data": {
      "text/plain": [
       "<tf.Tensor: shape=(3, 3), dtype=int32, numpy=\n",
       "array([[-4,  4, 18],\n",
       "       [-2,  0,  4],\n",
       "       [-9, -2, 13]])>"
      ]
     },
     "execution_count": 19,
     "metadata": {},
     "output_type": "execute_result"
    }
   ],
   "source": [
    "new_a_2 = tf.constant([[2,3],[0,1],[-1,4]])\n",
    "new_b_2 = tf.constant([[1,2,3],[-2,0,4]])\n",
    "multi_2 = tf.matmul(new_a_2,new_b_2)\n",
    "multi_2"
   ]
  }
 ],
 "metadata": {
  "kernelspec": {
   "display_name": ".venv",
   "language": "python",
   "name": "python3"
  },
  "language_info": {
   "codemirror_mode": {
    "name": "ipython",
    "version": 3
   },
   "file_extension": ".py",
   "mimetype": "text/x-python",
   "name": "python",
   "nbconvert_exporter": "python",
   "pygments_lexer": "ipython3",
   "version": "3.12.7"
  }
 },
 "nbformat": 4,
 "nbformat_minor": 2
}
